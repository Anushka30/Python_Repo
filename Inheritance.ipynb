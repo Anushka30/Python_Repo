{
 "cells": [
  {
   "cell_type": "markdown",
   "metadata": {},
   "source": [
    "#### Inheritance \n",
    "\n",
    "Inheritance is the capability of one class to derive or inherit the properties from another class. The benefits of inheritance are: \n",
    " \n",
    "\n",
    "   - It represents real-world relationships well.\n",
    "   - It provides reusability of a code. We don’t have to write the same code again and again. Also, it allows us to add more features to a class without modifying it.\n",
    "   - It is transitive in nature, which means that if class B inherits from another class A, then all the subclasses of B would automatically inherit from class A.\n",
    "   \n",
    "   https://www.techbeamers.com/python-inheritance/\n",
    "   \n",
    "   https://www.javatpoint.com/inheritance-in-python\n",
    "   \n",
    "   https://www.guru99.com/python-class-objects-object-oriented-programming-oop-s.html\n"
   ]
  },
  {
   "cell_type": "code",
   "execution_count": 4,
   "metadata": {},
   "outputs": [],
   "source": [
    "class Counter:\n",
    "    def __init__(self, count):\n",
    "        self.count = count\n",
    "\n",
    "    def add_counts(self, n):\n",
    "        self.count += n\n",
    "\n",
    "class Indexer(Counter):\n",
    "    pass"
   ]
  },
  {
   "cell_type": "code",
   "execution_count": 8,
   "metadata": {},
   "outputs": [],
   "source": [
    "ind = Indexer(3)\n",
    "ind.add_counts(2)"
   ]
  },
  {
   "cell_type": "code",
   "execution_count": 9,
   "metadata": {},
   "outputs": [
    {
     "data": {
      "text/plain": [
       "True"
      ]
     },
     "execution_count": 9,
     "metadata": {},
     "output_type": "execute_result"
    }
   ],
   "source": [
    "isinstance(ind, Counter)"
   ]
  },
  {
   "cell_type": "code",
   "execution_count": 14,
   "metadata": {},
   "outputs": [],
   "source": [
    "class Employee:\n",
    "    def __init__(self, name, salary=30000):\n",
    "        self.name = name\n",
    "        self.salary = salary\n",
    "\n",
    "    def give_raise(self, amount):\n",
    "        self.salary += amount\n",
    "\n",
    "        \n",
    "class Manager(Employee):\n",
    "  # Add a constructor \n",
    "    def __init__(self, name, salary=50000, project=None):\n",
    "\n",
    "        # Call the parent's constructor   \n",
    "        Employee.__init__(self, name, salary)\n",
    "\n",
    "        # Assign project attribute\n",
    "        self.project = project  \n",
    "\n",
    "  \n",
    "    def display(self):\n",
    "        print(\"Manager \", self.name)\n",
    " "
   ]
  },
  {
   "cell_type": "code",
   "execution_count": 15,
   "metadata": {},
   "outputs": [],
   "source": [
    "m1 = Manager(\"ria\")"
   ]
  },
  {
   "cell_type": "code",
   "execution_count": 17,
   "metadata": {},
   "outputs": [
    {
     "name": "stdout",
     "output_type": "stream",
     "text": [
      "Manager  ria\n"
     ]
    }
   ],
   "source": [
    "m1.display()"
   ]
  },
  {
   "cell_type": "code",
   "execution_count": 18,
   "metadata": {},
   "outputs": [],
   "source": [
    "m1.give_raise(2222)"
   ]
  },
  {
   "cell_type": "code",
   "execution_count": 19,
   "metadata": {},
   "outputs": [
    {
     "data": {
      "text/plain": [
       "52222"
      ]
     },
     "execution_count": 19,
     "metadata": {},
     "output_type": "execute_result"
    }
   ],
   "source": [
    "m1.salary"
   ]
  },
  {
   "cell_type": "code",
   "execution_count": 25,
   "metadata": {},
   "outputs": [
    {
     "name": "stdout",
     "output_type": "stream",
     "text": [
      "7\n",
      "79550.0\n",
      "81610.0\n"
     ]
    }
   ],
   "source": [
    "class Employee:\n",
    "    MAX_SPEED = 5\n",
    "    def __init__(self, name, salary=30000):\n",
    "        self.name = name\n",
    "        self.salary = salary\n",
    "\n",
    "    def give_raise(self, amount):\n",
    "        self.salary += amount\n",
    "\n",
    "        \n",
    "class Manager(Employee):\n",
    "    Employee.MAX_SPEED = 7\n",
    "    def display(self):\n",
    "        print(\"Manager \", self.name)\n",
    "\n",
    "    def __init__(self, name, salary=50000, project=None):\n",
    "        Employee.__init__(self, name, salary)\n",
    "        self.project = project\n",
    "\n",
    "    # Add a give_raise method\n",
    "    def give_raise(self, amount, bonus=1.05):\n",
    "        Employee.give_raise(self, amount*bonus)\n",
    "    \n",
    "    \n",
    "mngr = Manager(\"Ashta Dunbar\", 78500)\n",
    "print(mngr.MAX_SPEED)\n",
    "mngr.give_raise(1000)\n",
    "print(mngr.salary)\n",
    "mngr.give_raise(2000, bonus=1.03)\n",
    "print(mngr.salary)"
   ]
  },
  {
   "cell_type": "code",
   "execution_count": 50,
   "metadata": {},
   "outputs": [
    {
     "name": "stdout",
     "output_type": "stream",
     "text": [
      "<class 'NoneType'>\n",
      "i20 Active SX in Bronze with 4 seats\n",
      "i20 Active\n",
      "<class 'NoneType'>\n",
      "Fortuner MT2755 in White with 7 seats\n",
      "Fortuner\n"
     ]
    }
   ],
   "source": [
    "class Taxi:\n",
    "\n",
    "    def __init__(self, model, capacity, variant):\n",
    "        self.__model = model      # __model is private to Taxi class\n",
    "        self.__capacity = capacity\n",
    "        self.__variant = variant\n",
    "\n",
    "    def getModel(self):          # getmodel() is accessible outside the class\n",
    "        return self.__model\n",
    "\n",
    "    def getCapacity(self):         # getCapacity() function is accessible to class Vehicle\n",
    "        return self.__capacity\n",
    "\n",
    "    def setCapacity(self, capacity):  # setCapacity() is accessible outside the class\n",
    "        self.__capacity = capacity\n",
    "\n",
    "    def getVariant(self):         # getVariant() function is accessible to class Vehicle\n",
    "        return self.__variant\n",
    "        \n",
    "\n",
    "    def setVariant(self, variant):  # setVariant() is accessible outside the class\n",
    "        self.__variant = variant\n",
    "        \n",
    "\n",
    "class Vehicle(Taxi):\n",
    "\n",
    "    def __init__(self, model, capacity, variant, color):\n",
    "        # call parent constructor to set model and color  \n",
    "        super().__init__(model, capacity, variant)\n",
    "        print(type(super().__init__(model, capacity, variant)))\n",
    "        self.__color = color\n",
    "\n",
    "    def vehicleInfo(self):\n",
    "        return self.getModel() + \" \" + self.getVariant() + \" in \" + self.__color + \" with \" + self.getCapacity() + \" seats\"\n",
    "\n",
    "# In method getInfo we can call getmodel(), getCapacity() as they are \n",
    "# accessible in the child class through inheritance\n",
    "\n",
    "v1 = Vehicle(\"i20 Active\", \"4\", \"SX\", \"Bronze\")\n",
    "print(v1.vehicleInfo())\n",
    "print(v1.getModel()) # Vehicle has no method getModel() but it is accessible via Vehicle class\n",
    "\n",
    "v2 = Vehicle(\"Fortuner\", \"7\", \"MT2755\", \"White\")\n",
    "print(v2.vehicleInfo())\n",
    "print(v2.getModel()) # Vehicle has no method getModel() but it is accessible via Vehicle class"
   ]
  },
  {
   "cell_type": "code",
   "execution_count": 42,
   "metadata": {},
   "outputs": [
    {
     "data": {
      "text/plain": [
       "[__main__.Vehicle, __main__.Taxi, object]"
      ]
     },
     "execution_count": 42,
     "metadata": {},
     "output_type": "execute_result"
    }
   ],
   "source": [
    "Vehicle.mro()\n"
   ]
  },
  {
   "cell_type": "code",
   "execution_count": 46,
   "metadata": {},
   "outputs": [
    {
     "data": {
      "text/plain": [
       "(__main__.Vehicle, __main__.Taxi, object)"
      ]
     },
     "execution_count": 46,
     "metadata": {},
     "output_type": "execute_result"
    }
   ],
   "source": [
    "Vehicle.__mro__"
   ]
  },
  {
   "cell_type": "code",
   "execution_count": 47,
   "metadata": {},
   "outputs": [
    {
     "data": {
      "text/plain": [
       "[__main__.Taxi, object]"
      ]
     },
     "execution_count": 47,
     "metadata": {},
     "output_type": "execute_result"
    }
   ],
   "source": [
    "Taxi.mro()"
   ]
  },
  {
   "cell_type": "markdown",
   "metadata": {},
   "source": [
    "##### Multiple Inheritance\n",
    "\n",
    "When you inherit a child class from more than one base classes, that situation is known as Multiple Inheritance. It, however, exhibits the same behavior as does the single inheritance.\n",
    "\n",
    "The syntax for Multiple Inheritance is also similar to the single inheritance. By the way, in Multiple Inheritance, the child class claims the properties and methods of all the parent classes.\n"
   ]
  },
  {
   "cell_type": "code",
   "execution_count": 111,
   "metadata": {},
   "outputs": [],
   "source": [
    "class TeamMember:\n",
    "    def __init__(self, name, uid,**kw):\n",
    "        self.name = name\n",
    "        self.uid = uid\n",
    "        \n",
    "class Worker:\n",
    "    def __init__(self, pay, jobtitle,**kw):\n",
    "        self.pay = pay\n",
    "        self.jobtitle = jobtitle\n",
    "        super(Worker, self).__init__(**kw)\n",
    "        \n",
    "        \n",
    "class TeamLeader(TeamMember, Worker):\n",
    "    def __init__(self, name, uid, pay, jobtitle, exp):\n",
    "        self.exp = exp\n",
    "        super(TeamLeader, self).__init__(name=name, uid=uid, pay=pay, jobtitle=jobtitle)\n",
    "#         super(TeamLeader, self).__init__(pay, jobtitle)\n",
    "        print(\"Name: {}, Pay: {}, Exp: {}\".format(self.name, self.pay, self.exp))\n",
    "    "
   ]
  },
  {
   "cell_type": "code",
   "execution_count": 113,
   "metadata": {},
   "outputs": [
    {
     "ename": "AttributeError",
     "evalue": "'TeamLeader' object has no attribute 'pay'",
     "output_type": "error",
     "traceback": [
      "\u001b[1;31m---------------------------------------------------------------------------\u001b[0m",
      "\u001b[1;31mAttributeError\u001b[0m                            Traceback (most recent call last)",
      "\u001b[1;32m<ipython-input-113-728226d3907a>\u001b[0m in \u001b[0;36m<module>\u001b[1;34m\u001b[0m\n\u001b[1;32m----> 1\u001b[1;33m \u001b[0mtl\u001b[0m \u001b[1;33m=\u001b[0m \u001b[0mTeamLeader\u001b[0m\u001b[1;33m(\u001b[0m\u001b[1;34m'Jake'\u001b[0m\u001b[1;33m,\u001b[0m \u001b[1;36m10001\u001b[0m\u001b[1;33m,\u001b[0m \u001b[1;36m250000\u001b[0m\u001b[1;33m,\u001b[0m \u001b[1;34m'Scrum Master'\u001b[0m\u001b[1;33m,\u001b[0m \u001b[1;36m5\u001b[0m\u001b[1;33m)\u001b[0m\u001b[1;33m\u001b[0m\u001b[1;33m\u001b[0m\u001b[0m\n\u001b[0m",
      "\u001b[1;32m<ipython-input-111-353fbdc1112e>\u001b[0m in \u001b[0;36m__init__\u001b[1;34m(self, name, uid, pay, jobtitle, exp)\u001b[0m\n\u001b[0;32m     16\u001b[0m         \u001b[0msuper\u001b[0m\u001b[1;33m(\u001b[0m\u001b[0mTeamLeader\u001b[0m\u001b[1;33m,\u001b[0m \u001b[0mself\u001b[0m\u001b[1;33m)\u001b[0m\u001b[1;33m.\u001b[0m\u001b[0m__init__\u001b[0m\u001b[1;33m(\u001b[0m\u001b[0mname\u001b[0m\u001b[1;33m=\u001b[0m\u001b[0mname\u001b[0m\u001b[1;33m,\u001b[0m \u001b[0muid\u001b[0m\u001b[1;33m=\u001b[0m\u001b[0muid\u001b[0m\u001b[1;33m,\u001b[0m \u001b[0mpay\u001b[0m\u001b[1;33m=\u001b[0m\u001b[0mpay\u001b[0m\u001b[1;33m,\u001b[0m \u001b[0mjobtitle\u001b[0m\u001b[1;33m=\u001b[0m\u001b[0mjobtitle\u001b[0m\u001b[1;33m)\u001b[0m\u001b[1;33m\u001b[0m\u001b[1;33m\u001b[0m\u001b[0m\n\u001b[0;32m     17\u001b[0m \u001b[1;31m#         super(TeamLeader, self).__init__(pay, jobtitle)\u001b[0m\u001b[1;33m\u001b[0m\u001b[1;33m\u001b[0m\u001b[1;33m\u001b[0m\u001b[0m\n\u001b[1;32m---> 18\u001b[1;33m         \u001b[0mprint\u001b[0m\u001b[1;33m(\u001b[0m\u001b[1;34m\"Name: {}, Pay: {}, Exp: {}\"\u001b[0m\u001b[1;33m.\u001b[0m\u001b[0mformat\u001b[0m\u001b[1;33m(\u001b[0m\u001b[0mself\u001b[0m\u001b[1;33m.\u001b[0m\u001b[0mname\u001b[0m\u001b[1;33m,\u001b[0m \u001b[0mself\u001b[0m\u001b[1;33m.\u001b[0m\u001b[0mpay\u001b[0m\u001b[1;33m,\u001b[0m \u001b[0mself\u001b[0m\u001b[1;33m.\u001b[0m\u001b[0mexp\u001b[0m\u001b[1;33m)\u001b[0m\u001b[1;33m)\u001b[0m\u001b[1;33m\u001b[0m\u001b[1;33m\u001b[0m\u001b[0m\n\u001b[0m\u001b[0;32m     19\u001b[0m \u001b[1;33m\u001b[0m\u001b[0m\n",
      "\u001b[1;31mAttributeError\u001b[0m: 'TeamLeader' object has no attribute 'pay'"
     ]
    }
   ],
   "source": [
    "tl = TeamLeader('Jake', 10001, 250000, 'Scrum Master', 5)"
   ]
  },
  {
   "cell_type": "code",
   "execution_count": 40,
   "metadata": {},
   "outputs": [
    {
     "name": "stdout",
     "output_type": "stream",
     "text": [
      "True\n"
     ]
    }
   ],
   "source": [
    "print(issubclass(list,object))"
   ]
  },
  {
   "cell_type": "code",
   "execution_count": 116,
   "metadata": {},
   "outputs": [],
   "source": [
    "class A(object):\n",
    "    def __init__(self,a):\n",
    "        self.a=a\n",
    "\n",
    "class B(A):\n",
    "    def __init__(self,b,**kw):\n",
    "        self.b=b\n",
    "        super(B,self).__init__(**kw)\n",
    "\n",
    "class C(A):\n",
    "    def __init__(self,c,**kw):\n",
    "        self.c=c\n",
    "        super(C,self).__init__(**kw)\n",
    "\n",
    "class D(B,C):\n",
    "    def __init__(self,a,b,c,d):\n",
    "        super(D,self).__init__(a=a,b=b,c=c)\n",
    "        print(type(super(D,self).__init__(a=a,b=b,c=c)))\n",
    "        print(super(D,self).__init__(a=a,b=b,c=c))\n",
    "        self.d=d"
   ]
  },
  {
   "cell_type": "code",
   "execution_count": 117,
   "metadata": {},
   "outputs": [
    {
     "name": "stdout",
     "output_type": "stream",
     "text": [
      "<class 'NoneType'>\n",
      "None\n"
     ]
    }
   ],
   "source": [
    "d=D(1,2,3,4)"
   ]
  },
  {
   "cell_type": "code",
   "execution_count": 118,
   "metadata": {},
   "outputs": [
    {
     "data": {
      "text/plain": [
       "2"
      ]
     },
     "execution_count": 118,
     "metadata": {},
     "output_type": "execute_result"
    }
   ],
   "source": [
    "d.b"
   ]
  },
  {
   "cell_type": "code",
   "execution_count": 119,
   "metadata": {},
   "outputs": [
    {
     "data": {
      "text/plain": [
       "3"
      ]
     },
     "execution_count": 119,
     "metadata": {},
     "output_type": "execute_result"
    }
   ],
   "source": [
    "d.c"
   ]
  },
  {
   "cell_type": "code",
   "execution_count": null,
   "metadata": {},
   "outputs": [],
   "source": []
  },
  {
   "cell_type": "code",
   "execution_count": null,
   "metadata": {},
   "outputs": [],
   "source": []
  }
 ],
 "metadata": {
  "kernelspec": {
   "display_name": "Python 3",
   "language": "python",
   "name": "python3"
  },
  "language_info": {
   "codemirror_mode": {
    "name": "ipython",
    "version": 3
   },
   "file_extension": ".py",
   "mimetype": "text/x-python",
   "name": "python",
   "nbconvert_exporter": "python",
   "pygments_lexer": "ipython3",
   "version": "3.7.4"
  }
 },
 "nbformat": 4,
 "nbformat_minor": 2
}
