{
 "cells": [
  {
   "cell_type": "code",
   "execution_count": 2,
   "metadata": {},
   "outputs": [],
   "source": [
    "# Python Program for 'Guess the Number Game' in Python\n",
    "import random"
   ]
  },
  {
   "cell_type": "code",
   "execution_count": 6,
   "metadata": {},
   "outputs": [
    {
     "name": "stdout",
     "output_type": "stream",
     "text": [
      "Enter the no: 7\n",
      "Enter the no: 8\n",
      "Enter the no: 9\n",
      "Enter the no: 2\n",
      "Enter the no: 3\n",
      "Enter the no: 4\n",
      "Enter the no: 1\n",
      "Enter the no: 3\n",
      "Enter the no: 5\n",
      "Well guessed!\n"
     ]
    }
   ],
   "source": [
    "target_num = random.randint(0, 10)\n",
    "guess_num = 0\n",
    "\n",
    "while target_num != guess_num:\n",
    "    guess_num = int(input(\"Enter the no: \"))\n",
    "print(\"Well guessed!\")"
   ]
  },
  {
   "cell_type": "markdown",
   "metadata": {},
   "source": [
    "#### Python Program for 'Guess the Number Game' in Python"
   ]
  },
  {
   "cell_type": "code",
   "execution_count": null,
   "metadata": {},
   "outputs": [],
   "source": [
    "import random\n",
    "guessesTaken = 0\n",
    "print(\"What is your name? \")\n",
    "myName = input()\n",
    "number = random.randint(1,20)\n"
   ]
  },
  {
   "cell_type": "code",
   "execution_count": 8,
   "metadata": {},
   "outputs": [
    {
     "name": "stdout",
     "output_type": "stream",
     "text": [
      "Found\n"
     ]
    }
   ],
   "source": [
    "from re import *\n",
    "res = search('FA', 'FACE Prep')\n",
    "if(res):\n",
    "    print(\"Found\")\n",
    "else:\n",
    "    print(\"Not Found\")"
   ]
  },
  {
   "cell_type": "code",
   "execution_count": null,
   "metadata": {},
   "outputs": [],
   "source": []
  }
 ],
 "metadata": {
  "kernelspec": {
   "display_name": "Python 3",
   "language": "python",
   "name": "python3"
  },
  "language_info": {
   "codemirror_mode": {
    "name": "ipython",
    "version": 3
   },
   "file_extension": ".py",
   "mimetype": "text/x-python",
   "name": "python",
   "nbconvert_exporter": "python",
   "pygments_lexer": "ipython3",
   "version": "3.7.4"
  }
 },
 "nbformat": 4,
 "nbformat_minor": 2
}
