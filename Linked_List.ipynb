{
 "cells": [
  {
   "cell_type": "markdown",
   "metadata": {},
   "source": [
    "### Reverse Linked List II\n",
    "\n",
    "Reverse a linked list from position m to n. Do it in one-pass.\n",
    "\n",
    "Note: 1 ≤ m ≤ n ≤ length of list.\n",
    "\n",
    "Input: 1->2->3->4->5->NULL, m = 2, n = 4\n",
    "Output: 1->4->3->2->5->NULL"
   ]
  },
  {
   "cell_type": "code",
   "execution_count": 1,
   "metadata": {},
   "outputs": [
    {
     "name": "stdout",
     "output_type": "stream",
     "text": [
      "2\n",
      "3\n",
      "8\n",
      "None\n",
      "8\n"
     ]
    },
    {
     "data": {
      "text/plain": [
       "8"
      ]
     },
     "execution_count": 2,
     "metadata": {},
     "output_type": "execute_result"
    }
   ],
   "source": [
    "# A linked list node consists of a data field and reference to the next node in the list. We can use a constructor to initialize \n",
    "# the data and the next field for a Node,\n",
    "# which are allocated in the memory during runtime.\n",
    "\n",
    "class Node:\n",
    "    def __init__(self, data):\n",
    "        self.data = data\n",
    "        self.next = None\n",
    "        \n",
    "class LinkedList:\n",
    "    def __init__(self):\n",
    "        self.head = None\n",
    "        \n",
    "    def print_LL(self):\n",
    "        if self.head is None:\n",
    "            print(\"Linked list is empty\")\n",
    "        else:\n",
    "            n = self.head\n",
    "            while n is not None:\n",
    "                print(n.data)\n",
    "                n=n.next\n",
    "         \n",
    "\n",
    "    \n",
    "ll = LinkedList()\n",
    "ll.head = Node(2)\n",
    "n2 = Node(3)\n",
    "n3 = Node(8)\n",
    "\n",
    "ll.head.next = n2\n",
    "n2.next = n3\n",
    "\n",
    "print(ll.print_LL())\n",
    "\n",
    "print(n3.data)\n",
    "n2.next.data\n",
    "\n",
    "\n",
    "# 2 3 8\n"
   ]
  },
  {
   "cell_type": "code",
   "execution_count": 13,
   "metadata": {},
   "outputs": [
    {
     "name": "stdout",
     "output_type": "stream",
     "text": [
      "1 <__main__.Node object at 0x000002D50F586700>\n",
      "2 <__main__.Node object at 0x000002D50F5863A0>\n",
      "3 <__main__.Node object at 0x000002D50F5865E0>\n",
      "4 None\n"
     ]
    }
   ],
   "source": [
    "class Node:\n",
    "    def __init__(self, data, next=None):\n",
    "        self.data = data\n",
    "        self.next = next\n",
    "        \n",
    "class LinkedList:\n",
    "    def __init__(self):\n",
    "        self.head = None\n",
    "        \n",
    "    def create_list(self, keys):\n",
    "        for i in reversed(range(len(keys))):\n",
    "            self.head = Node(keys[i], self.head)\n",
    "        return self.head\n",
    "    \n",
    "    def print_LL(self):\n",
    "        if self.head is None:\n",
    "            print(\"Linked list is empty\")\n",
    "        else:\n",
    "            n = self.head\n",
    "            while n is not None:\n",
    "                print(n.data, n.next)\n",
    "                n=n.next\n",
    "    \n",
    "if __name__ == \"__main__\":\n",
    "    keys = [1,2,3,4]\n",
    "    ll = LinkedList()\n",
    "    head = ll.create_list(keys)\n",
    "    ll.print_LL()\n",
    "        "
   ]
  },
  {
   "cell_type": "code",
   "execution_count": null,
   "metadata": {},
   "outputs": [],
   "source": []
  }
 ],
 "metadata": {
  "kernelspec": {
   "display_name": "Python 3 (ipykernel)",
   "language": "python",
   "name": "python3"
  },
  "language_info": {
   "codemirror_mode": {
    "name": "ipython",
    "version": 3
   },
   "file_extension": ".py",
   "mimetype": "text/x-python",
   "name": "python",
   "nbconvert_exporter": "python",
   "pygments_lexer": "ipython3",
   "version": "3.9.7"
  }
 },
 "nbformat": 4,
 "nbformat_minor": 4
}
