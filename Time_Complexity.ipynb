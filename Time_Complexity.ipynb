{
 "cells": [
  {
   "cell_type": "markdown",
   "id": "7e2ce6a6-7f16-412c-9cad-44a59ae01bbb",
   "metadata": {},
   "source": [
    "## Palindrome Number\n",
    "    Given an integer x, return true if x is palindrome integer.\n",
    "\n",
    "    An integer is a palindrome when it reads the same backward as forward.\n",
    "\n",
    "        For example, 121 is a palindrome while 123 is not.\n",
    "\n",
    "    https://www.code-recipe.com/post/palindrome-number"
   ]
  },
  {
   "cell_type": "code",
   "execution_count": 4,
   "id": "aec9001e-b534-425b-9526-148a71c44eb4",
   "metadata": {},
   "outputs": [],
   "source": [
    "class Solution:\n",
    "    def isPalindrome(self, x:int) -> bool:\n",
    "        # If x is a negative number it is not a palindrome\n",
    "        # If x % 10 = 0, in order for it to be a palindrome the first digit should also be 0\n",
    "        if x < 0 or (x > 0 and x % 10 == 0):\n",
    "            return False\n",
    "        reversedNum = 0\n",
    "        while x > reversedNum:\n",
    "            reversedNum = reversedNum * 10 + x % 10\n",
    "            x = x // 10\n",
    "        return True if (x == reversedNum or x == reversedNum // 10) else False"
   ]
  },
  {
   "cell_type": "code",
   "execution_count": 6,
   "id": "d9b0a529-4d72-4758-912d-0b7261b982c7",
   "metadata": {},
   "outputs": [
    {
     "data": {
      "text/plain": [
       "True"
      ]
     },
     "execution_count": 6,
     "metadata": {},
     "output_type": "execute_result"
    }
   ],
   "source": [
    "obj = Solution()\n",
    "obj.isPalindrome(12321)"
   ]
  },
  {
   "cell_type": "markdown",
   "id": "10aa4ae8-c4ba-4bb7-b73d-4ef6135a971c",
   "metadata": {},
   "source": [
    "#### Complexity Analysis\n",
    "\n",
    "    Time Complexity: O(d/2)\n",
    "\n",
    "    d here is the no. of digits in the given input number. Time complexity of this algorithm is O(d/2) because we only have to check half of the digits in the given number x (last to middle) to determine if the given number is a palindrome.\n",
    "\n",
    "    Space Complexity: O(1)\n",
    "\n",
    "    No extra space is used."
   ]
  },
  {
   "cell_type": "markdown",
   "id": "fe211917-d43b-4503-afb0-4ad59724ab05",
   "metadata": {},
   "source": [
    "## Fibonacci Number\n",
    "    The Fibonacci numbers, commonly denoted F(n) form a sequence, called the Fibonacci sequence, such that each number is the sum of the two preceding ones, starting from 0 and 1. That is,\n",
    "\n",
    "    F(0) = 0, F(1) = 1\n",
    "    F(n) = F(n - 1) + F(n - 2), for n > 1.\n",
    "\n",
    "    Given n, calculate F(n).\n",
    "    \n",
    "    Approach 1: Iterative Bottom-Up Approach\n",
    "\n",
    "    Intuition\n",
    "\n",
    "    Let's get rid of the need to use all of that space and instead use the minimum amount of space required. Notice that during each recursive call in the top-down approach and each iteration in the bottom-up approach, we only needed to look at the results of fib(N-1) and fib(N-2) to determine the result of fib(N). Therefore, we can achieve O(1)O(1)O(1) space complexity by only storing the value of the two previous numbers and updating them as we iterate to N.\n",
    "\n",
    "    Algorithm\n",
    "\n",
    "    Check if N <= 1, if it is, then we should return N.\n",
    "    We need 3 variables to store each state fib(N), fib(N-1), and fib(N-2).\n",
    "    Preset the initial values:\n",
    "        Initialize current with 0.\n",
    "        Initialize prev1 with 1, since this will represent fib(N-1) when computing the current value.\n",
    "        Initialize prev2 with 0, since this will represent fib(N-2) when computing the current value.\n",
    "    Iterate, incrementally by 1, all the way up to and including N. Starting at 2, since 0 and 1 are pre-computed.\n",
    "    Set the current value to prev1 + prev2 because that is the value we are currently computing.\n",
    "    Set the prev2 value to prev1.\n",
    "    Set the prev1 value to current.\n",
    "    When we reach N+1, we will exit the loop and return the previously set current value.\n"
   ]
  },
  {
   "cell_type": "code",
   "execution_count": 9,
   "id": "57687525-5d30-446e-a88d-068315c6df92",
   "metadata": {},
   "outputs": [],
   "source": [
    "class Solution:\n",
    "    def fib(self, n: int) -> int:\n",
    "        if n <= 1:\n",
    "            return n\n",
    "        current = 0\n",
    "        prev1 = 1\n",
    "        prev2 = 0\n",
    "        for i in range(2, n+1):\n",
    "            current = prev1 + prev2\n",
    "            prev2 = prev1\n",
    "            prev1 = current\n",
    "        return current"
   ]
  },
  {
   "cell_type": "code",
   "execution_count": 11,
   "id": "9ebc631a-76e9-4317-bdfb-1a7794864dce",
   "metadata": {},
   "outputs": [
    {
     "data": {
      "text/plain": [
       "8"
      ]
     },
     "execution_count": 11,
     "metadata": {},
     "output_type": "execute_result"
    }
   ],
   "source": [
    "fib_test = Solution()\n",
    "fib_test.fib(6)"
   ]
  },
  {
   "cell_type": "markdown",
   "id": "1820571e-c1ec-4902-b4ec-81b2271621ba",
   "metadata": {},
   "source": [
    "### Complexity Analysis\n",
    "\n",
    "    Time complexity: O(N). Each value from 2 to N is computed once. Thus, the time it takes to find the answer is directly proportional to N where N is the Fibonacci Number we are looking to compute.\n",
    "\n",
    "    Space complexity: O(1). This requires 1 unit of space for the integer N and 3 units of space to store the computed values (current, prev1, and prev2) for every loop iteration. The amount of space used is independent of NNN, so this approach uses a constant amount of space.\n"
   ]
  },
  {
   "cell_type": "markdown",
   "id": "f51fcb3a-5956-4c96-8539-e752610d50b5",
   "metadata": {},
   "source": [
    "### Approach 2: Top-Down Approach using Memoization(Fibonacci numbers)\n",
    "\n",
    "    Solve for all of the sub-problems, use memoization to store the pre-computed answers, then return the answer for NNN. We will leverage recursion, but in a smarter way by not repeating the work to calculate existing values.\n",
    "\n",
    "    Algorithm\n",
    "\n",
    "    At first, create a map with 0 -> 0 and 1 -> 1 pairs.\n",
    "    Call fib(N) function.\n",
    "        At every recursive call of fib(N), if N exists in the map, return the cached value for N.\n",
    "        Otherwise, set the key N, in our mapping, to the value of fib(N - 1) + fib(N - 2) and return the computed value.\n",
    "\n",
    "    For Python, instead of manually maintaining a dictionary (cache) we can use the built-in decorator @cache or @lru_cache(None). You can read more about these decorators here. We decided not to use the decorators in this approach so that the solution gives a clear idea about what actually happens when memoization is added to a function."
   ]
  },
  {
   "cell_type": "code",
   "execution_count": 16,
   "id": "8161495b-8e25-4f5e-956d-8505dde6df41",
   "metadata": {},
   "outputs": [],
   "source": [
    "from functools import lru_cache\n",
    "class Fibsolution:\n",
    "    @lru_cache(maxsize=None)\n",
    "    def fib(self, n :int) -> int:\n",
    "        if n < 2:\n",
    "            return n\n",
    "        return self.fib(n - 1) + self.fib(n - 2)\n",
    "        "
   ]
  },
  {
   "cell_type": "code",
   "execution_count": 17,
   "id": "db173c70-b6cc-4237-8328-1a755079d480",
   "metadata": {},
   "outputs": [
    {
     "data": {
      "text/plain": [
       "8"
      ]
     },
     "execution_count": 17,
     "metadata": {},
     "output_type": "execute_result"
    }
   ],
   "source": [
    "obj_1 = Fibsolution()\n",
    "obj_1.fib(6)"
   ]
  },
  {
   "cell_type": "markdown",
   "id": "b64f12fd-db15-4893-92c8-ffa4cb802bba",
   "metadata": {},
   "source": [
    "### Complexity Analysis\n",
    "\n",
    "    Time complexity: O(N). Each number, starting at 2 up to and including N, is visited, computed and then stored for O(1) access later on.\n",
    "\n",
    "    Space complexity: O(N). The size of the stack in memory is proportional to N. Also, the memoization hash table is used, which occupies O(N) space.\n"
   ]
  },
  {
   "cell_type": "markdown",
   "id": "2407c588-7546-437d-a69e-e0c942519e2d",
   "metadata": {},
   "source": [
    "## Two Sum - Leetcode \n",
    "    Given an array of integers nums and an integer target, return indices of the two numbers such that they add up to target.\n",
    "\n",
    "    You may assume that each input would have exactly one solution, and you may not use the same element twice.\n",
    "\n",
    "    You can return the answer in any order.\n",
    "    \n",
    "    Example 1:\n",
    "\n",
    "    Input: nums = [2,7,11,15], target = 9\n",
    "    Output: [0,1]\n",
    "    Explanation: Because nums[0] + nums[1] == 9, we return [0, 1].\n"
   ]
  },
  {
   "cell_type": "markdown",
   "id": "d963675f-ad23-4e39-b561-08f9dd098674",
   "metadata": {},
   "source": [
    "#### One-pass Hash Table\n",
    "\n",
    "    Algorithm\n",
    "\n",
    "    It turns out we can do it in one-pass. While we are iterating and inserting elements into the hash table, we also look back to check if current element's complement already exists in the hash table. If it exists, we have found a solution and return the indices immediately."
   ]
  },
  {
   "cell_type": "code",
   "execution_count": 22,
   "id": "79801dd6-f970-4211-a064-6454a4dd0e49",
   "metadata": {},
   "outputs": [],
   "source": [
    "from typing import List\n",
    "class Solution:\n",
    "    def twoSum(self, nums: List[int], target: int) -> List[int]:\n",
    "        seen = {}\n",
    "        for i, val in enumerate(nums):\n",
    "            remaining = target - nums[i]\n",
    "            if remaining in seen:\n",
    "                return [seen[remaining], i]\n",
    "            seen[val] = i"
   ]
  },
  {
   "cell_type": "code",
   "execution_count": 24,
   "id": "d7496e14-c42a-4feb-a83f-fbed98d03d49",
   "metadata": {},
   "outputs": [
    {
     "data": {
      "text/plain": [
       "[0, 1]"
      ]
     },
     "execution_count": 24,
     "metadata": {},
     "output_type": "execute_result"
    }
   ],
   "source": [
    "obj = Solution()\n",
    "obj.twoSum([3,3],6)"
   ]
  },
  {
   "cell_type": "markdown",
   "id": "152f6587-4855-495a-8be1-5f80b436f0fc",
   "metadata": {},
   "source": [
    "#### Complexity Analysis\n",
    "\n",
    "    Time Complexity: O(n)\n",
    "\n",
    "    Space Complexity: O(n)\n",
    " \n",
    "\n",
    "    The running time complexity of this solution is O(n) since we would have to go through all array elements in the worst case. As described in two sum solution 1, the worst case occurs when the required combination is the last  combination to be checked.\n",
    "\n",
    "     Also the  auxiliary space required is O(n) since we store the array elements in hashmap and in the worst case we would end up storing all values in the given array in hashmap."
   ]
  },
  {
   "cell_type": "code",
   "execution_count": null,
   "id": "ed1ac723-f819-44ef-ab3c-6a676e2296cb",
   "metadata": {},
   "outputs": [],
   "source": []
  }
 ],
 "metadata": {
  "kernelspec": {
   "display_name": "Python 3 (ipykernel)",
   "language": "python",
   "name": "python3"
  },
  "language_info": {
   "codemirror_mode": {
    "name": "ipython",
    "version": 3
   },
   "file_extension": ".py",
   "mimetype": "text/x-python",
   "name": "python",
   "nbconvert_exporter": "python",
   "pygments_lexer": "ipython3",
   "version": "3.9.7"
  }
 },
 "nbformat": 4,
 "nbformat_minor": 5
}
