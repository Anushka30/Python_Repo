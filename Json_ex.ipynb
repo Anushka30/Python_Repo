{
 "cells": [
  {
   "cell_type": "code",
   "execution_count": 15,
   "metadata": {},
   "outputs": [],
   "source": [
    "import json"
   ]
  },
  {
   "cell_type": "markdown",
   "metadata": {},
   "source": [
    "### json.dumps() method can convert a Python object into a JSON string."
   ]
  },
  {
   "cell_type": "code",
   "execution_count": 14,
   "metadata": {},
   "outputs": [
    {
     "name": "stdout",
     "output_type": "stream",
     "text": [
      "<class 'dict'>\n",
      "<class 'str'>\n"
     ]
    },
    {
     "data": {
      "text/plain": [
       "'{\"id\": \"04\", \"name\": \"sunil\", \"depatment\": \"HR\", \"status\": true, \"pid\": 12, \"price\": null, \"stock\": [\"USD\", \"INR\"]}'"
      ]
     },
     "execution_count": 14,
     "metadata": {},
     "output_type": "execute_result"
    }
   ],
   "source": [
    "dict_1 = { \"id\": \"04\",  \n",
    "  \"name\": \"sunil\",  \n",
    "  \"depatment\": \"HR\",\"status\":True, \"pid\":12, \"price\":None, \"stock\":['USD', 'INR']}\n",
    "print(type(dict_1))\n",
    "\n",
    "json_obj = json.dumps(dict_1)\n",
    "print(type(json_obj))\n",
    "json_obj\n"
   ]
  },
  {
   "cell_type": "markdown",
   "metadata": {},
   "source": [
    "### json.dump() method can be used for writing to JSON file."
   ]
  },
  {
   "cell_type": "code",
   "execution_count": 16,
   "metadata": {},
   "outputs": [],
   "source": [
    "with open('sample.json', 'w') as fp:\n",
    "    json.dump(dict_1, fp)"
   ]
  },
  {
   "cell_type": "markdown",
   "metadata": {},
   "source": [
    "### json.load() takes a file object and returns the json object. "
   ]
  },
  {
   "cell_type": "code",
   "execution_count": 28,
   "metadata": {},
   "outputs": [
    {
     "name": "stdout",
     "output_type": "stream",
     "text": [
      "{'id': '04', 'name': 'sunil', 'depatment': 'HR', 'status': True, 'pid': 12, 'price': None, 'stock': ['USD', 'INR']}\n",
      "\n",
      "<class 'dict'>\n"
     ]
    }
   ],
   "source": [
    "with open('sample.json') as fp:\n",
    "    dict_data = json.load(fp)\n",
    "\n",
    "print(dict_data, end='\\n\\n')\n",
    "print(type(dict_data))"
   ]
  },
  {
   "cell_type": "markdown",
   "metadata": {},
   "source": [
    "### json.loads() method can be used to parse a valid JSON string and convert it into a Python Dictionary."
   ]
  },
  {
   "cell_type": "code",
   "execution_count": 33,
   "metadata": {},
   "outputs": [
    {
     "name": "stdout",
     "output_type": "stream",
     "text": [
      "<class 'str'>\n",
      "<class 'dict'>\n"
     ]
    },
    {
     "data": {
      "text/plain": [
       "{'Name': 'Jennifer Smith',\n",
       " 'Contact Number': 7867567898,\n",
       " 'Email': 'jen123@gmail.com',\n",
       " 'Hobbies': ['Reading', 'Sketching', 'Horse Riding'],\n",
       " 'Status': False,\n",
       " 'Address': None}"
      ]
     },
     "execution_count": 33,
     "metadata": {},
     "output_type": "execute_result"
    }
   ],
   "source": [
    "x = \"\"\"{ \n",
    "    \"Name\": \"Jennifer Smith\", \n",
    "    \"Contact Number\": 7867567898, \n",
    "    \"Email\": \"jen123@gmail.com\", \n",
    "    \"Hobbies\":[\"Reading\", \"Sketching\", \"Horse Riding\"] ,\n",
    "    \"Status\": false,\n",
    "    \"Address\": null\n",
    "    }\"\"\"\n",
    "\n",
    "print(type(x))\n",
    "y = json.loads(x)\n",
    "print(type(y))\n",
    "y\n",
    "  "
   ]
  },
  {
   "cell_type": "code",
   "execution_count": null,
   "metadata": {},
   "outputs": [],
   "source": []
  }
 ],
 "metadata": {
  "kernelspec": {
   "display_name": "Python 3 (ipykernel)",
   "language": "python",
   "name": "python3"
  },
  "language_info": {
   "codemirror_mode": {
    "name": "ipython",
    "version": 3
   },
   "file_extension": ".py",
   "mimetype": "text/x-python",
   "name": "python",
   "nbconvert_exporter": "python",
   "pygments_lexer": "ipython3",
   "version": "3.9.7"
  }
 },
 "nbformat": 4,
 "nbformat_minor": 4
}
