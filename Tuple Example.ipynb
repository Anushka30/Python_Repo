{
 "cells": [
  {
   "cell_type": "markdown",
   "metadata": {},
   "source": [
    "##  Tuple\n",
    "\n",
    "A tuple is a collection of objects which is ordered and immutable. Tuples are similar to lists, the main difference ist the immutability. In Python tuples are written with round brackets and comma separated values.\n",
    "\n",
    "my_tuple = (\"Max\", 28, \"New York\")\n",
    "Reasons to use a tuple over a list\n",
    "- Generally used for objects that belong together.\n",
    "- Use tuple for heterogeneous (different) datatypes and list for homogeneous (similar) datatypes.\n",
    "- Since tuple are immutable, iterating through tuple is slightly faster than with list.\n",
    "- Tuples with their immutable elements can be used as key for a dictionary. This is not possible with lists.\n",
    "- If you have data that doesn't change, implementing it as tuple will guarantee that it remains write-protected.\n",
    "- This can be used when you want to secure your data collection set and does not need any modification.\n",
    "\n",
    "### Create a tuple\n",
    "\n",
    "Tuples are created with round brackets and comma separated values. Or use the built-in tuple function.\n",
    "\n",
    "- Tuples are stored in a single block of memory. Tuples are immutable so, It doesn't require extra space to store new objects.\n",
    "\n",
    "- Lists are allocated in two blocks: the fixed one with all the Python object information and a variable sized block for the data.\n",
    "\n",
    "- It is the reason creating a tuple is faster than List.\n",
    "- unhashable type: 'list'\n",
    "- hashable type: 'tuple'\n"
   ]
  },
  {
   "cell_type": "code",
   "execution_count": 3,
   "metadata": {},
   "outputs": [
    {
     "name": "stdout",
     "output_type": "stream",
     "text": [
      "Tuple data is :  ('Name = John Cleverly', 'Grade = Grade 2', 'ID = 123', 'Section = B')\n",
      "List data is :  ['Milk', 'Butter', 'Dessert', 'Ice cream']\n",
      "size of a tuple is :  56\n",
      "size of a list is :  72\n"
     ]
    }
   ],
   "source": [
    "tuple_A = ('Name = John Cleverly','Grade = Grade 2','ID = 123', 'Section = B')\n",
    "list_B  = ['Milk','Butter', 'Dessert', 'Ice cream']\n",
    "\n",
    "print('Tuple data is : ', tuple_A)\n",
    "print('List data is : ', list_B)\n",
    "\n",
    "print('size of a tuple is : ',tuple_A.__sizeof__())\n",
    "print('size of a list is : ',list_B.__sizeof__())"
   ]
  },
  {
   "cell_type": "code",
   "execution_count": 4,
   "metadata": {},
   "outputs": [
    {
     "data": {
      "text/plain": [
       "6901983315753642771"
      ]
     },
     "execution_count": 4,
     "metadata": {},
     "output_type": "execute_result"
    }
   ],
   "source": [
    "tuple_A.__hash__()"
   ]
  },
  {
   "cell_type": "code",
   "execution_count": 9,
   "metadata": {},
   "outputs": [
    {
     "data": {
      "text/plain": [
       "['h', 'e', 'l', 'l', 'o']"
      ]
     },
     "execution_count": 9,
     "metadata": {},
     "output_type": "execute_result"
    }
   ],
   "source": [
    "list(\"hello\")"
   ]
  },
  {
   "cell_type": "code",
   "execution_count": 12,
   "metadata": {},
   "outputs": [],
   "source": [
    "my_tuple = tuple(\"heelo\")"
   ]
  },
  {
   "cell_type": "code",
   "execution_count": 11,
   "metadata": {},
   "outputs": [
    {
     "data": {
      "text/plain": [
       "{'e', 'h', 'l', 'o'}"
      ]
     },
     "execution_count": 11,
     "metadata": {},
     "output_type": "execute_result"
    }
   ],
   "source": [
    "                                         "
   ]
  },
  {
   "cell_type": "code",
   "execution_count": 13,
   "metadata": {},
   "outputs": [
    {
     "data": {
      "text/plain": [
       "2"
      ]
     },
     "execution_count": 13,
     "metadata": {},
     "output_type": "execute_result"
    }
   ],
   "source": [
    "my_tuple.count('e')"
   ]
  },
  {
   "cell_type": "code",
   "execution_count": 14,
   "metadata": {},
   "outputs": [
    {
     "data": {
      "text/plain": [
       "1"
      ]
     },
     "execution_count": 14,
     "metadata": {},
     "output_type": "execute_result"
    }
   ],
   "source": [
    "my_tuple.index(\"e\")"
   ]
  },
  {
   "cell_type": "code",
   "execution_count": 15,
   "metadata": {},
   "outputs": [],
   "source": [
    "tuple_2 = \"Linda\", 25, \"Miami\" # Parentheses are optional, it is alos called as tuple packing"
   ]
  },
  {
   "cell_type": "code",
   "execution_count": 16,
   "metadata": {},
   "outputs": [
    {
     "data": {
      "text/plain": [
       "('Linda', 25, 'Miami')"
      ]
     },
     "execution_count": 16,
     "metadata": {},
     "output_type": "execute_result"
    }
   ],
   "source": [
    "tuple_2"
   ]
  },
  {
   "cell_type": "code",
   "execution_count": 17,
   "metadata": {},
   "outputs": [
    {
     "name": "stdout",
     "output_type": "stream",
     "text": [
      "('a', 'b', 'a', 'b', 'a', 'b', 'a', 'b', 'a', 'b')\n"
     ]
    }
   ],
   "source": [
    "my_tuple = ('a', 'b') * 5\n",
    "print(my_tuple)"
   ]
  },
  {
   "cell_type": "code",
   "execution_count": 18,
   "metadata": {},
   "outputs": [
    {
     "name": "stdout",
     "output_type": "stream",
     "text": [
      "(1, 2, 3, 4, 5, 6)\n"
     ]
    }
   ],
   "source": [
    "\n",
    "# concatenation\n",
    "my_tuple = (1,2,3) + (4,5,6)\n",
    "print(my_tuple)"
   ]
  },
  {
   "cell_type": "code",
   "execution_count": 19,
   "metadata": {},
   "outputs": [
    {
     "name": "stdout",
     "output_type": "stream",
     "text": [
      "0.1784680999999182\n",
      "0.016887200000383018\n"
     ]
    }
   ],
   "source": [
    "# compare the execution time of a list vs. tuple creation statement\n",
    "import timeit\n",
    "print(timeit.timeit(stmt=\"[0, 1, 2, 3, 4, 5]\", number=1000000))\n",
    "print(timeit.timeit(stmt=\"(0, 1, 2, 3, 4, 5)\", number=1000000))"
   ]
  },
  {
   "cell_type": "code",
   "execution_count": 22,
   "metadata": {},
   "outputs": [
    {
     "name": "stdout",
     "output_type": "stream",
     "text": [
      "11\n",
      "21\n",
      "33\n"
     ]
    }
   ],
   "source": [
    "numberGames = {}\n",
    "numberGames[(1,2,4)] = 8\n",
    "numberGames[(4,2,1)] = 10\n",
    "numberGames[(1,2)] = 12\n",
    "sum = 0\n",
    "for k in numberGames:\n",
    "    sum += numberGames[k]\n",
    "    print(len(numberGames) + sum)"
   ]
  },
  {
   "cell_type": "code",
   "execution_count": 23,
   "metadata": {},
   "outputs": [
    {
     "data": {
      "text/plain": [
       "int"
      ]
     },
     "execution_count": 23,
     "metadata": {},
     "output_type": "execute_result"
    }
   ],
   "source": [
    "type(1)"
   ]
  },
  {
   "cell_type": "code",
   "execution_count": 24,
   "metadata": {},
   "outputs": [
    {
     "data": {
      "text/plain": [
       "(0, 1)"
      ]
     },
     "execution_count": 24,
     "metadata": {},
     "output_type": "execute_result"
    }
   ],
   "source": [
    "a=(0,1,2,3,4)\n",
    "b=slice(0,2)\n",
    "a[b]"
   ]
  },
  {
   "cell_type": "code",
   "execution_count": 25,
   "metadata": {},
   "outputs": [
    {
     "name": "stdout",
     "output_type": "stream",
     "text": [
      "(('check',),)\n",
      "((('check',),),)\n"
     ]
    }
   ],
   "source": [
    "a = ('check',)\n",
    "n = 2\n",
    "for i in range(int(n)):\n",
    "    a = (a,)\n",
    "    print(a)"
   ]
  },
  {
   "cell_type": "code",
   "execution_count": 4,
   "metadata": {},
   "outputs": [
    {
     "data": {
      "text/plain": [
       "[('hello', 'world'), ('1', '2')]"
      ]
     },
     "execution_count": 4,
     "metadata": {},
     "output_type": "execute_result"
    }
   ],
   "source": [
    "helloWorld = ['hello','world','1','2']\n",
    "list(zip(helloWorld[0::2], helloWorld[1::2]))"
   ]
  },
  {
   "cell_type": "code",
   "execution_count": 6,
   "metadata": {},
   "outputs": [
    {
     "data": {
      "text/plain": [
       "['hello', '1']"
      ]
     },
     "execution_count": 6,
     "metadata": {},
     "output_type": "execute_result"
    }
   ],
   "source": [
    "helloWorld[0::2]"
   ]
  },
  {
   "cell_type": "code",
   "execution_count": 7,
   "metadata": {},
   "outputs": [
    {
     "data": {
      "text/plain": [
       "['world', '2']"
      ]
     },
     "execution_count": 7,
     "metadata": {},
     "output_type": "execute_result"
    }
   ],
   "source": [
    "helloWorld[1::2]"
   ]
  },
  {
   "cell_type": "code",
   "execution_count": 8,
   "metadata": {},
   "outputs": [
    {
     "data": {
      "text/plain": [
       "{'hello': 'world', '1': '2'}"
      ]
     },
     "execution_count": 8,
     "metadata": {},
     "output_type": "execute_result"
    }
   ],
   "source": [
    "dict(zip(helloWorld[0::2], helloWorld[1::2]))"
   ]
  },
  {
   "cell_type": "code",
   "execution_count": null,
   "metadata": {},
   "outputs": [],
   "source": [
    "5//2"
   ]
  },
  {
   "cell_type": "code",
   "execution_count": null,
   "metadata": {},
   "outputs": [],
   "source": []
  }
 ],
 "metadata": {
  "kernelspec": {
   "display_name": "Python 3",
   "language": "python",
   "name": "python3"
  },
  "language_info": {
   "codemirror_mode": {
    "name": "ipython",
    "version": 3
   },
   "file_extension": ".py",
   "mimetype": "text/x-python",
   "name": "python",
   "nbconvert_exporter": "python",
   "pygments_lexer": "ipython3",
   "version": "3.7.4"
  }
 },
 "nbformat": 4,
 "nbformat_minor": 2
}
