{
 "cells": [
  {
   "cell_type": "code",
   "execution_count": 2,
   "metadata": {},
   "outputs": [
    {
     "name": "stdout",
     "output_type": "stream",
     "text": [
      "Outer function\n",
      "Inner function\n"
     ]
    },
    {
     "data": {
      "text/plain": [
       "'HELLO WORLD'"
      ]
     },
     "execution_count": 2,
     "metadata": {},
     "output_type": "execute_result"
    }
   ],
   "source": [
    "def lower_fun(func):\n",
    "    print(\"Outer function\")\n",
    "    def inner_func():\n",
    "        print(\"Inner function\")\n",
    "        val = func()\n",
    "        str1 = val.upper()\n",
    "        return str1\n",
    "    return inner_func\n",
    "        \n",
    "\n",
    "def hello_world():\n",
    "    return \"hello world\"\n",
    "\n",
    "hello_world = lower_fun(hello_world)\n",
    "hello_world()"
   ]
  },
  {
   "cell_type": "code",
   "execution_count": 8,
   "metadata": {},
   "outputs": [
    {
     "name": "stdout",
     "output_type": "stream",
     "text": [
      "Outer function\n",
      "Inner function\n"
     ]
    },
    {
     "data": {
      "text/plain": [
       "['HELLO', 'WORLD']"
      ]
     },
     "execution_count": 8,
     "metadata": {},
     "output_type": "execute_result"
    }
   ],
   "source": [
    "def lower_fun(func):\n",
    "    print(\"Outer function\")\n",
    "    def inner_func():\n",
    "        print(\"Inner function\")\n",
    "        val = func()\n",
    "        str1 = val.upper()\n",
    "        return str1\n",
    "    return inner_func\n",
    "\n",
    "def split_func(func):\n",
    "    def inner_func():\n",
    "        val = func()\n",
    "        result = val.split()\n",
    "        return result\n",
    "    return inner_func\n",
    "        \n",
    "@split_func\n",
    "@lower_fun\n",
    "def hello_world():\n",
    "    return \"hello world\"\n",
    "\n",
    "hello_world()"
   ]
  },
  {
   "cell_type": "code",
   "execution_count": 9,
   "metadata": {},
   "outputs": [
    {
     "data": {
      "text/plain": [
       "'Sum is 8'"
      ]
     },
     "execution_count": 9,
     "metadata": {},
     "output_type": "execute_result"
    }
   ],
   "source": [
    "def outer(func):\n",
    "    def inner(x,y):\n",
    "        val = func(x,y)\n",
    "        res = f\"Sum is {val}\"\n",
    "        return res\n",
    "    return inner\n",
    "\n",
    "@outer\n",
    "def add4(a,b):\n",
    "    return a+b\n",
    "\n",
    "add4(3,5)"
   ]
  },
  {
   "cell_type": "markdown",
   "metadata": {},
   "source": [
    "### Closure\n",
    "A closure is a nested function which has access to a free variable from an enclosing function that has finished its execution.\n",
    "Closures can avoid the use of global values and provides some form of data hiding. It can also provide an object oriented solution to the problem\n",
    "\n",
    "A closure in Python is said to occur when a nested function references a value in its enclosing scope. The whole point here is that it remembers the value.\n",
    "\n",
    "    The criteria that must be met to create closure in Python are summarized in the following points.\n",
    "\n",
    "    We must have a nested function (function inside a function).\n",
    "    The nested function must refer to a value defined in the enclosing function.\n",
    "    The enclosing function must return the nested function."
   ]
  },
  {
   "cell_type": "code",
   "execution_count": 16,
   "metadata": {},
   "outputs": [
    {
     "name": "stdout",
     "output_type": "stream",
     "text": [
      "Text:  Hi\n",
      "1\n"
     ]
    }
   ],
   "source": [
    "def outer(msg):\n",
    "    text = msg\n",
    "    x =0\n",
    "    def inner():\n",
    "        nonlocal x\n",
    "        x += 1\n",
    "        print(\"Text: \", text)\n",
    "        print(x)\n",
    "    return inner\n",
    "\n",
    "func = outer(\"Hi\")\n",
    "func()"
   ]
  },
  {
   "cell_type": "code",
   "execution_count": 18,
   "metadata": {},
   "outputs": [],
   "source": [
    "#iterator\n",
    "favorite_numbers = [6, 57, 4, 7, 68, 95]\n",
    "my_iter = iter(favorite_numbers)"
   ]
  },
  {
   "cell_type": "code",
   "execution_count": 21,
   "metadata": {},
   "outputs": [
    {
     "data": {
      "text/plain": [
       "6"
      ]
     },
     "execution_count": 21,
     "metadata": {},
     "output_type": "execute_result"
    }
   ],
   "source": [
    "next(my_iter)"
   ]
  },
  {
   "cell_type": "code",
   "execution_count": 23,
   "metadata": {},
   "outputs": [
    {
     "data": {
      "text/plain": [
       "4"
      ]
     },
     "execution_count": 23,
     "metadata": {},
     "output_type": "execute_result"
    }
   ],
   "source": [
    "# generator\n",
    "def squares(no):\n",
    "    for n in no:\n",
    "        return n*n\n",
    "    \n",
    "val =squares([2,3,4])\n",
    "val"
   ]
  },
  {
   "cell_type": "code",
   "execution_count": 24,
   "metadata": {},
   "outputs": [
    {
     "data": {
      "text/plain": [
       "<generator object squares at 0x000002983CC80248>"
      ]
     },
     "execution_count": 24,
     "metadata": {},
     "output_type": "execute_result"
    }
   ],
   "source": [
    "def squares(no):\n",
    "    for n in no:\n",
    "        yield n*n\n",
    "    \n",
    "val =squares([2,3,4])\n",
    "val"
   ]
  },
  {
   "cell_type": "code",
   "execution_count": 25,
   "metadata": {},
   "outputs": [
    {
     "data": {
      "text/plain": [
       "4"
      ]
     },
     "execution_count": 25,
     "metadata": {},
     "output_type": "execute_result"
    }
   ],
   "source": [
    "next(val)"
   ]
  },
  {
   "cell_type": "code",
   "execution_count": 26,
   "metadata": {},
   "outputs": [
    {
     "data": {
      "text/plain": [
       "9"
      ]
     },
     "execution_count": 26,
     "metadata": {},
     "output_type": "execute_result"
    }
   ],
   "source": [
    "next(val)"
   ]
  },
  {
   "cell_type": "code",
   "execution_count": 31,
   "metadata": {},
   "outputs": [],
   "source": [
    "# fibonacci_gen.py\n",
    "def fib():\n",
    "    a ,b = 0, 1\n",
    "    while True:\n",
    "        yield b\n",
    "        a,b = b, a+b\n",
    "g = fib()"
   ]
  },
  {
   "cell_type": "code",
   "execution_count": 34,
   "metadata": {},
   "outputs": [
    {
     "data": {
      "text/plain": [
       "2"
      ]
     },
     "execution_count": 34,
     "metadata": {},
     "output_type": "execute_result"
    }
   ],
   "source": [
    "next(g)"
   ]
  },
  {
   "cell_type": "code",
   "execution_count": 43,
   "metadata": {},
   "outputs": [],
   "source": [
    "# for i in g:\n",
    "#     print(i)"
   ]
  },
  {
   "cell_type": "code",
   "execution_count": 41,
   "metadata": {},
   "outputs": [],
   "source": [
    "g = (e for e in range(10) if not e%3 )"
   ]
  },
  {
   "cell_type": "code",
   "execution_count": 40,
   "metadata": {},
   "outputs": [
    {
     "data": {
      "text/plain": [
       "9"
      ]
     },
     "execution_count": 40,
     "metadata": {},
     "output_type": "execute_result"
    }
   ],
   "source": [
    "next(g)"
   ]
  },
  {
   "cell_type": "code",
   "execution_count": 42,
   "metadata": {},
   "outputs": [
    {
     "name": "stdout",
     "output_type": "stream",
     "text": [
      "0\n",
      "3\n",
      "6\n",
      "9\n"
     ]
    }
   ],
   "source": [
    "for i in g:\n",
    "    print(i)"
   ]
  },
  {
   "cell_type": "code",
   "execution_count": 44,
   "metadata": {},
   "outputs": [
    {
     "data": {
      "text/plain": [
       "OrderedDict([('NAME', 'Albatross'),\n",
       "             ('HP', 50),\n",
       "             ('BLASTERS', 13),\n",
       "             ('THRUSTERS', 18),\n",
       "             ('PRICE', 250)])"
      ]
     },
     "execution_count": 44,
     "metadata": {},
     "output_type": "execute_result"
    }
   ],
   "source": [
    "ship = [(\"NAME\", \"Albatross\"),\n",
    "        (\"HP\", 50),\n",
    "        (\"BLASTERS\", 13),\n",
    "        (\"THRUSTERS\", 18),\n",
    "        (\"PRICE\", 250)]\n",
    "from collections import OrderedDict\n",
    "d = OrderedDict(ship)\n",
    "d"
   ]
  },
  {
   "cell_type": "code",
   "execution_count": 45,
   "metadata": {},
   "outputs": [
    {
     "data": {
      "text/plain": [
       "OrderedDict([(1, 2), (3, 4)])"
      ]
     },
     "execution_count": 45,
     "metadata": {},
     "output_type": "execute_result"
    }
   ],
   "source": [
    "s = {1:2,3:4}\n",
    "q = OrderedDict(s)\n",
    "q"
   ]
  },
  {
   "cell_type": "code",
   "execution_count": 48,
   "metadata": {},
   "outputs": [
    {
     "data": {
      "text/plain": [
       "collections.OrderedDict"
      ]
     },
     "execution_count": 48,
     "metadata": {},
     "output_type": "execute_result"
    }
   ],
   "source": [
    "type(q)"
   ]
  },
  {
   "cell_type": "code",
   "execution_count": 9,
   "metadata": {},
   "outputs": [],
   "source": [
    "def logging(func):\n",
    "    def log_function():\n",
    "        print(f\"{func} called\")\n",
    "        func()\n",
    "    return log_function"
   ]
  },
  {
   "cell_type": "code",
   "execution_count": 10,
   "metadata": {},
   "outputs": [],
   "source": [
    "def my_name():\n",
    "    print(\"cheris\")"
   ]
  },
  {
   "cell_type": "code",
   "execution_count": 11,
   "metadata": {},
   "outputs": [],
   "source": [
    "def friend_name():\n",
    "    print(\"naurto\")"
   ]
  },
  {
   "cell_type": "code",
   "execution_count": 12,
   "metadata": {},
   "outputs": [
    {
     "name": "stdout",
     "output_type": "stream",
     "text": [
      "cheris\n"
     ]
    }
   ],
   "source": [
    "my_name()"
   ]
  },
  {
   "cell_type": "code",
   "execution_count": 13,
   "metadata": {},
   "outputs": [
    {
     "name": "stdout",
     "output_type": "stream",
     "text": [
      "naurto\n"
     ]
    }
   ],
   "source": [
    "friend_name()"
   ]
  },
  {
   "cell_type": "code",
   "execution_count": 14,
   "metadata": {},
   "outputs": [],
   "source": [
    "@logging\n",
    "def my_name():\n",
    "    print(\"cheris\")"
   ]
  },
  {
   "cell_type": "code",
   "execution_count": 15,
   "metadata": {},
   "outputs": [
    {
     "name": "stdout",
     "output_type": "stream",
     "text": [
      "<function my_name at 0x0000023C833B7820> called\n",
      "cheris\n"
     ]
    }
   ],
   "source": [
    "my_name()"
   ]
  },
  {
   "cell_type": "code",
   "execution_count": 16,
   "metadata": {},
   "outputs": [
    {
     "name": "stdout",
     "output_type": "stream",
     "text": [
      "<function my_name at 0x0000023C833B7820> called\n",
      "cheris\n"
     ]
    },
    {
     "data": {
      "text/plain": [
       "<function __main__.logging.<locals>.log_function()>"
      ]
     },
     "execution_count": 16,
     "metadata": {},
     "output_type": "execute_result"
    }
   ],
   "source": [
    "a = my_name()\n",
    "logging(a)"
   ]
  },
  {
   "cell_type": "code",
   "execution_count": 17,
   "metadata": {},
   "outputs": [],
   "source": [
    "@logging\n",
    "def friend_name():\n",
    "    print(\"naurto\")"
   ]
  },
  {
   "cell_type": "code",
   "execution_count": 19,
   "metadata": {},
   "outputs": [
    {
     "name": "stdout",
     "output_type": "stream",
     "text": [
      "<function friend_name at 0x0000023C833B7940> called\n",
      "naurto\n"
     ]
    }
   ],
   "source": [
    "friend_name()"
   ]
  },
  {
   "cell_type": "code",
   "execution_count": 21,
   "metadata": {},
   "outputs": [
    {
     "name": "stdout",
     "output_type": "stream",
     "text": [
      "Text:  Hi\n",
      "1\n"
     ]
    }
   ],
   "source": [
    "# Closure\n",
    "def outer(msg):\n",
    "    text = msg\n",
    "    x =0\n",
    "    def inner():\n",
    "        nonlocal x\n",
    "        x += 1\n",
    "        print(\"Text: \", text)\n",
    "        print(x)\n",
    "    return inner\n",
    "\n",
    "func = outer(\"Hi\")\n",
    "func()"
   ]
  },
  {
   "cell_type": "code",
   "execution_count": null,
   "metadata": {},
   "outputs": [],
   "source": []
  }
 ],
 "metadata": {
  "kernelspec": {
   "display_name": "Python 3 (ipykernel)",
   "language": "python",
   "name": "python3"
  },
  "language_info": {
   "codemirror_mode": {
    "name": "ipython",
    "version": 3
   },
   "file_extension": ".py",
   "mimetype": "text/x-python",
   "name": "python",
   "nbconvert_exporter": "python",
   "pygments_lexer": "ipython3",
   "version": "3.9.7"
  }
 },
 "nbformat": 4,
 "nbformat_minor": 4
}
